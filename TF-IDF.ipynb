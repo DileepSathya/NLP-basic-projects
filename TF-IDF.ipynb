{
 "cells": [
  {
   "cell_type": "code",
   "execution_count": 34,
   "metadata": {},
   "outputs": [],
   "source": [
    "import pandas as pd\n",
    "from nltk.stem import WordNetLemmatizer\n",
    "from sklearn.feature_extraction.text import TfidfVectorizer\n",
    "import re\n",
    "from nltk.corpus import stopwords\n",
    "from sklearn.model_selection import train_test_split\n",
    "from sklearn.preprocessing import StandardScaler,MinMaxScaler,OneHotEncoder\n",
    "from sklearn.compose import ColumnTransformer\n",
    "from sklearn.model_selection import train_test_split,GridSearchCV,StratifiedKFold\n",
    "from sklearn.ensemble import RandomForestClassifier\n",
    "from sklearn.ensemble import GradientBoostingClassifier\n",
    "from sklearn.tree import DecisionTreeClassifier\n",
    "from sklearn.linear_model import LogisticRegression\n",
    "\n",
    "from sklearn.neighbors import KNeighborsClassifier\n",
    "from sklearn.svm import SVC\n",
    "from sklearn.naive_bayes import GaussianNB\n",
    "from sklearn.metrics import accuracy_score,confusion_matrix, classification_report,ConfusionMatrixDisplay,precision_score, recall_score, f1_score, roc_auc_score,roc_curve"
   ]
  },
  {
   "cell_type": "code",
   "execution_count": 35,
   "metadata": {},
   "outputs": [],
   "source": [
    "messages=pd.read_csv(\"SMSSpamCollection.txt\",sep='\\t',names=['labels','message'])"
   ]
  },
  {
   "cell_type": "code",
   "execution_count": null,
   "metadata": {},
   "outputs": [],
   "source": []
  },
  {
   "cell_type": "code",
   "execution_count": 36,
   "metadata": {},
   "outputs": [
    {
     "data": {
      "text/plain": [
       "array([0, 0, 1, ..., 0, 0, 0])"
      ]
     },
     "execution_count": 36,
     "metadata": {},
     "output_type": "execute_result"
    }
   ],
   "source": [
    "y=pd.get_dummies(messages['labels'],dtype=int)\n",
    "y=y.iloc[:,1].values\n",
    "y"
   ]
  },
  {
   "cell_type": "code",
   "execution_count": 37,
   "metadata": {},
   "outputs": [],
   "source": [
    "corpus=[]\n",
    "wnl=WordNetLemmatizer()\n",
    "for i in range(len(messages)):\n",
    "    review=re.sub('a-zA-Z',' ',messages['message'][i])\n",
    "    review=review.lower()\n",
    "    review=review.split()\n",
    "    review=[wnl.lemmatize(word,pos='v') for word in review if word not in set(stopwords.words('english'))]\n",
    "    review=' '.join(review)\n",
    "    corpus.append(review)"
   ]
  },
  {
   "cell_type": "code",
   "execution_count": 38,
   "metadata": {},
   "outputs": [],
   "source": [
    "tfidf=TfidfVectorizer(max_features=2500,ngram_range=(1,2))\n",
    "x=tfidf.fit_transform(corpus)\n"
   ]
  },
  {
   "cell_type": "code",
   "execution_count": 39,
   "metadata": {},
   "outputs": [],
   "source": [
    "from sklearn.model_selection import train_test_split\n",
    "x_train,x_test,y_train,y_test=train_test_split(x,y,random_state=42,test_size=0.3)"
   ]
  },
  {
   "cell_type": "code",
   "execution_count": 40,
   "metadata": {},
   "outputs": [
    {
     "data": {
      "text/plain": [
       "((3900, 2500), (1672, 2500), (3900,), (1672,))"
      ]
     },
     "execution_count": 40,
     "metadata": {},
     "output_type": "execute_result"
    }
   ],
   "source": [
    "x_train.shape,x_test.shape,y_train.shape,y_test.shape"
   ]
  },
  {
   "cell_type": "code",
   "execution_count": 41,
   "metadata": {},
   "outputs": [],
   "source": [
    "models={\n",
    "    \"Logisitic Regression\":LogisticRegression(),\n",
    "    \"Random forest classifier\":RandomForestClassifier(),\n",
    "    \"Decision tree\":DecisionTreeClassifier(),\n",
    "    \"gradient boost\":GradientBoostingClassifier(),\n",
    "    \"Support vector machine\":SVC(),\n",
    "    \"knearest neighbours\":KNeighborsClassifier(),\n",
    "#    \"Naive bias\":naive_bayes()\n",
    "}   \n",
    "def report(models):\n",
    "\n",
    "    for i in range(len(list(models))):\n",
    "        model = list(models.values())[i]\n",
    "        model.fit(x_train, y_train) # Train model\n",
    "\n",
    "        # Make predictions\n",
    "        y_train_pred = model.predict(x_train)\n",
    "        y_test_pred = model.predict(x_test)\n",
    "\n",
    "        # Training set performance\n",
    "        model_train_accuracy = accuracy_score(y_train, y_train_pred) # Calculate Accuracy\n",
    "        model_train_f1 = f1_score(y_train, y_train_pred, average='weighted') # Calculate F1-score\n",
    "        model_train_precision = precision_score(y_train, y_train_pred) # Calculate Precision\n",
    "        model_train_recall = recall_score(y_train, y_train_pred) # Calculate Recall\n",
    "#        model_train_rocauc_score = roc_auc_score(y_train, y_train_pred)\n",
    "        model_train_confusion_matrix=confusion_matrix(y_train, y_train_pred)\n",
    "\n",
    "\n",
    "        # Test set performance\n",
    "        model_test_accuracy = accuracy_score(y_test, y_test_pred) # Calculate Accuracy\n",
    "        model_test_f1 = f1_score(y_test, y_test_pred, average='weighted') # Calculate F1-score\n",
    "        model_test_precision = precision_score(y_test, y_test_pred) # Calculate Precision\n",
    "        model_test_recall = recall_score(y_test, y_test_pred) # Calculate Recall\n",
    "#        model_test_rocauc_score = roc_auc_score(y_test, y_test_pred) #Calculate Roc\n",
    "        model_test_confusion_matrix=confusion_matrix(y_test, y_test_pred)\n",
    "\n",
    "\n",
    "        print(list(models.keys())[i])\n",
    "        \n",
    "        print('Model performance for Training set')\n",
    "        print(\"- Accuracy: {:.4f}\".format(model_train_accuracy))\n",
    "        print('- F1 score: {:.4f}'.format(model_train_f1))\n",
    "        \n",
    "        print('- Precision: {:.4f}'.format(model_train_precision))\n",
    "        print('- Recall: {:.4f}'.format(model_train_recall))\n",
    "#        print('- Roc Auc Score: {:.4f}'.format(model_train_rocauc_score))\n",
    "        print('- confusion matrix:\\n{}'.format(model_train_confusion_matrix))\n",
    "\n",
    "        \n",
    "        \n",
    "        print('----------------------------------')\n",
    "        \n",
    "        print('Model performance for Test set')\n",
    "        print('- Accuracy: {:.4f}'.format(model_test_accuracy))\n",
    "        print('- F1 score: {:.4f}'.format(model_test_f1))\n",
    "        print('- Precision: {:.4f}'.format(model_test_precision))\n",
    "        print('- Recall: {:.4f}'.format(model_test_recall))\n",
    "#        print('- Roc Auc Score: {:.4f}'.format(model_test_rocauc_score))\n",
    "        print('- confusion matrix:\\n{}'.format(model_test_confusion_matrix))\n",
    "        \n",
    "        print('='*35)\n",
    "        print('\\n')\n"
   ]
  },
  {
   "cell_type": "code",
   "execution_count": 42,
   "metadata": {},
   "outputs": [
    {
     "name": "stdout",
     "output_type": "stream",
     "text": [
      "Logisitic Regression\n",
      "Model performance for Training set\n",
      "- Accuracy: 0.9769\n",
      "- F1 score: 0.9760\n",
      "- Precision: 0.9954\n",
      "- Recall: 0.8317\n",
      "- confusion matrix:\n",
      "[[3375    2]\n",
      " [  88  435]]\n",
      "----------------------------------\n",
      "Model performance for Test set\n",
      "- Accuracy: 0.9719\n",
      "- F1 score: 0.9705\n",
      "- Precision: 0.9944\n",
      "- Recall: 0.7946\n",
      "- confusion matrix:\n",
      "[[1447    1]\n",
      " [  46  178]]\n",
      "===================================\n",
      "\n",
      "\n",
      "Random forest classifier\n",
      "Model performance for Training set\n",
      "- Accuracy: 0.9992\n",
      "- F1 score: 0.9992\n",
      "- Precision: 1.0000\n",
      "- Recall: 0.9943\n",
      "- confusion matrix:\n",
      "[[3377    0]\n",
      " [   3  520]]\n",
      "----------------------------------\n",
      "Model performance for Test set\n",
      "- Accuracy: 0.9827\n",
      "- F1 score: 0.9822\n",
      "- Precision: 0.9949\n",
      "- Recall: 0.8750\n",
      "- confusion matrix:\n",
      "[[1447    1]\n",
      " [  28  196]]\n",
      "===================================\n",
      "\n",
      "\n",
      "Decision tree\n",
      "Model performance for Training set\n",
      "- Accuracy: 0.9992\n",
      "- F1 score: 0.9992\n",
      "- Precision: 1.0000\n",
      "- Recall: 0.9943\n",
      "- confusion matrix:\n",
      "[[3377    0]\n",
      " [   3  520]]\n",
      "----------------------------------\n",
      "Model performance for Test set\n",
      "- Accuracy: 0.9611\n",
      "- F1 score: 0.9609\n",
      "- Precision: 0.8630\n",
      "- Recall: 0.8438\n",
      "- confusion matrix:\n",
      "[[1418   30]\n",
      " [  35  189]]\n",
      "===================================\n",
      "\n",
      "\n",
      "gradient boost\n",
      "Model performance for Training set\n",
      "- Accuracy: 0.9815\n",
      "- F1 score: 0.9810\n",
      "- Precision: 0.9956\n",
      "- Recall: 0.8662\n",
      "- confusion matrix:\n",
      "[[3375    2]\n",
      " [  70  453]]\n",
      "----------------------------------\n",
      "Model performance for Test set\n",
      "- Accuracy: 0.9719\n",
      "- F1 score: 0.9709\n",
      "- Precision: 0.9634\n",
      "- Recall: 0.8214\n",
      "- confusion matrix:\n",
      "[[1441    7]\n",
      " [  40  184]]\n",
      "===================================\n",
      "\n",
      "\n",
      "Support vector machine\n",
      "Model performance for Training set\n",
      "- Accuracy: 0.9964\n",
      "- F1 score: 0.9964\n",
      "- Precision: 1.0000\n",
      "- Recall: 0.9732\n",
      "- confusion matrix:\n",
      "[[3377    0]\n",
      " [  14  509]]\n",
      "----------------------------------\n",
      "Model performance for Test set\n",
      "- Accuracy: 0.9839\n",
      "- F1 score: 0.9834\n",
      "- Precision: 0.9950\n",
      "- Recall: 0.8839\n",
      "- confusion matrix:\n",
      "[[1447    1]\n",
      " [  26  198]]\n",
      "===================================\n",
      "\n",
      "\n",
      "knearest neighbours\n",
      "Model performance for Training set\n",
      "- Accuracy: 0.9338\n",
      "- F1 score: 0.9242\n",
      "- Precision: 1.0000\n",
      "- Recall: 0.5067\n",
      "- confusion matrix:\n",
      "[[3377    0]\n",
      " [ 258  265]]\n",
      "----------------------------------\n",
      "Model performance for Test set\n",
      "- Accuracy: 0.9181\n",
      "- F1 score: 0.9019\n",
      "- Precision: 1.0000\n",
      "- Recall: 0.3884\n",
      "- confusion matrix:\n",
      "[[1448    0]\n",
      " [ 137   87]]\n",
      "===================================\n",
      "\n",
      "\n"
     ]
    }
   ],
   "source": [
    "report(models)"
   ]
  }
 ],
 "metadata": {
  "kernelspec": {
   "display_name": "Python 3",
   "language": "python",
   "name": "python3"
  },
  "language_info": {
   "codemirror_mode": {
    "name": "ipython",
    "version": 3
   },
   "file_extension": ".py",
   "mimetype": "text/x-python",
   "name": "python",
   "nbconvert_exporter": "python",
   "pygments_lexer": "ipython3",
   "version": "3.9.4"
  }
 },
 "nbformat": 4,
 "nbformat_minor": 2
}
